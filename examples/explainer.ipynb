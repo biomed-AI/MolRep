{
 "cells": [
  {
   "cell_type": "code",
   "execution_count": 1,
   "metadata": {},
   "outputs": [],
   "source": [
    "from molrep import load_model_and_preprocess, load_explainer, expalin_and_visualize"
   ]
  },
  {
   "cell_type": "code",
   "execution_count": 2,
   "metadata": {},
   "outputs": [
    {
     "name": "stdout",
     "output_type": "stream",
     "text": [
      "Missing keys []\n",
      "load checkpoint from /data/user/raojh/worksapce/MolRep-v2/model_checkpoints/gin_ogbg-molbbbp_best.pth\n"
     ]
    }
   ],
   "source": [
    "model, preprocess = load_model_and_preprocess('gin', 'ogbg-molbbbp', device='cuda:1')\n",
    "explainer = load_explainer('cam')"
   ]
  },
  {
   "cell_type": "code",
   "execution_count": null,
   "metadata": {},
   "outputs": [],
   "source": []
  },
  {
   "cell_type": "code",
   "execution_count": 4,
   "metadata": {},
   "outputs": [],
   "source": [
    "mols, data = preprocess.process(['C(=O)(OC(C)(C)C)CCCc1ccc(cc1)N(CCCl)CCCl'])"
   ]
  },
  {
   "cell_type": "code",
   "execution_count": 5,
   "metadata": {},
   "outputs": [],
   "source": [
    "svgs = expalin_and_visualize(explainer, model, data)"
   ]
  },
  {
   "cell_type": "code",
   "execution_count": 6,
   "metadata": {},
   "outputs": [
    {
     "data": {
      "image/svg+xml": [
       "<svg baseProfile=\"full\" height=\"200px\" version=\"1.1\" viewBox=\"0 0 400 200\" width=\"400px\" xml:space=\"preserve\" xmlns=\"http://www.w3.org/2000/svg\" xmlns:rdkit=\"http://www.rdkit.org/xml\" xmlns:xlink=\"http://www.w3.org/1999/xlink\">\n",
       "<!-- END OF HEADER -->\n",
       "<rect height=\"200.0\" style=\"opacity:1.0;fill:#FFFFFF;stroke:none\" width=\"400.0\" x=\"0.0\" y=\"0.0\"> </rect>\n",
       "<path class=\"bond-0 atom-0 atom-1\" d=\"M 105.1,83.6 L 111.7,85.1 L 105.1,114.1 L 101.4,115.3 L 98.5,112.6 Z\" style=\"fill:#1BBC9B;fill-rule:evenodd;fill-opacity:1;stroke:#1BBC9B;stroke-width:0.0px;stroke-linecap:butt;stroke-linejoin:miter;stroke-opacity:1;\"/>\n",
       "<path class=\"bond-1 atom-0 atom-2\" d=\"M 98.5,112.6 L 101.4,115.3 L 100.6,119.1 L 70.3,128.5 L 72.0,120.9 Z\" style=\"fill:#1BBC9B;fill-rule:evenodd;fill-opacity:1;stroke:#1BBC9B;stroke-width:0.0px;stroke-linecap:butt;stroke-linejoin:miter;stroke-opacity:1;\"/>\n",
       "<path class=\"bond-6 atom-0 atom-7\" d=\"M 105.1,114.1 L 127.0,134.3 L 122.4,139.2 L 100.6,119.1 L 101.4,115.3 Z\" style=\"fill:#1BBC9B;fill-rule:evenodd;fill-opacity:1;stroke:#1BBC9B;stroke-width:0.0px;stroke-linecap:butt;stroke-linejoin:miter;stroke-opacity:1;\"/>\n",
       "<path class=\"bond-2 atom-2 atom-3\" d=\"M 52.6,103.0 L 72.0,120.9 L 70.3,128.5 L 48.0,108.0 L 47.8,103.2 Z\" style=\"fill:#1BBC9B;fill-rule:evenodd;fill-opacity:1;stroke:#1BBC9B;stroke-width:0.0px;stroke-linecap:butt;stroke-linejoin:miter;stroke-opacity:1;\"/>\n",
       "<path class=\"bond-3 atom-3 atom-4\" d=\"M 47.8,103.2 L 48.0,108.0 L 28.8,128.8 L 23.9,124.2 L 43.1,103.4 Z\" style=\"fill:#1BBC9B;fill-rule:evenodd;fill-opacity:1;stroke:#1BBC9B;stroke-width:0.0px;stroke-linecap:butt;stroke-linejoin:miter;stroke-opacity:1;\"/>\n",
       "<path class=\"bond-4 atom-3 atom-5\" d=\"M 66.8,77.6 L 71.8,82.2 L 52.6,103.0 L 47.8,103.2 L 47.6,98.4 Z\" style=\"fill:#1BBC9B;fill-rule:evenodd;fill-opacity:1;stroke:#1BBC9B;stroke-width:0.0px;stroke-linecap:butt;stroke-linejoin:miter;stroke-opacity:1;\"/>\n",
       "<path class=\"bond-5 atom-3 atom-6\" d=\"M 26.8,79.2 L 47.6,98.4 L 47.8,103.2 L 43.1,103.4 L 22.2,84.2 Z\" style=\"fill:#1BBC9B;fill-rule:evenodd;fill-opacity:1;stroke:#1BBC9B;stroke-width:0.0px;stroke-linecap:butt;stroke-linejoin:miter;stroke-opacity:1;\"/>\n",
       "<path class=\"bond-11 atom-11 atom-12\" d=\"M 246.7,95.1 L 244.9,102.8 L 216.5,111.6 L 214.5,105.2 Z\" style=\"fill:#1BBC9B;fill-rule:evenodd;fill-opacity:1;stroke:#1BBC9B;stroke-width:0.0px;stroke-linecap:butt;stroke-linejoin:miter;stroke-opacity:1;\"/>\n",
       "<path class=\"bond-12 atom-12 atom-13\" d=\"M 246.7,95.1 L 270.0,116.6 L 269.1,120.4 L 265.4,121.6 L 244.9,102.8 Z\" style=\"fill:#1BBC9B;fill-rule:evenodd;fill-opacity:1;stroke:#1BBC9B;stroke-width:0.0px;stroke-linecap:butt;stroke-linejoin:miter;stroke-opacity:1;\"/>\n",
       "<path class=\"bond-13 atom-13 atom-14\" d=\"M 269.1,120.4 L 272.0,123.1 L 265.0,154.0 L 259.3,148.7 L 265.4,121.6 Z\" style=\"fill:#1BBC9B;fill-rule:evenodd;fill-opacity:1;stroke:#1BBC9B;stroke-width:0.0px;stroke-linecap:butt;stroke-linejoin:miter;stroke-opacity:1;\"/>\n",
       "<path class=\"bond-15 atom-13 atom-16\" d=\"M 296.5,108.3 L 299.4,111.0 L 298.5,114.8 L 272.0,123.1 L 269.1,120.4 L 270.0,116.6 Z\" style=\"fill:#1BBC9B;fill-rule:evenodd;fill-opacity:1;stroke:#1BBC9B;stroke-width:0.0px;stroke-linecap:butt;stroke-linejoin:miter;stroke-opacity:1;\"/>\n",
       "<path class=\"bond-14 atom-14 atom-15\" d=\"M 259.3,148.7 L 265.0,154.0 L 232.9,164.0 L 230.9,157.6 Z\" style=\"fill:#1BBC9B;fill-rule:evenodd;fill-opacity:1;stroke:#1BBC9B;stroke-width:0.0px;stroke-linecap:butt;stroke-linejoin:miter;stroke-opacity:1;\"/>\n",
       "<path class=\"bond-16 atom-16 atom-17\" d=\"M 303.1,109.8 L 323.6,128.7 L 321.8,136.3 L 298.5,114.8 L 299.4,111.0 Z\" style=\"fill:#1BBC9B;fill-rule:evenodd;fill-opacity:1;stroke:#1BBC9B;stroke-width:0.0px;stroke-linecap:butt;stroke-linejoin:miter;stroke-opacity:1;\"/>\n",
       "<path class=\"bond-19 atom-16 atom-20\" d=\"M 303.5,77.4 L 309.2,82.7 L 303.1,109.8 L 299.4,111.0 L 296.5,108.3 Z\" style=\"fill:#1BBC9B;fill-rule:evenodd;fill-opacity:1;stroke:#1BBC9B;stroke-width:0.0px;stroke-linecap:butt;stroke-linejoin:miter;stroke-opacity:1;\"/>\n",
       "<path class=\"bond-17 atom-17 atom-18\" d=\"M 352.0,119.8 L 354.0,126.3 L 321.8,136.3 L 323.6,128.7 Z\" style=\"fill:#1BBC9B;fill-rule:evenodd;fill-opacity:1;stroke:#1BBC9B;stroke-width:0.0px;stroke-linecap:butt;stroke-linejoin:miter;stroke-opacity:1;\"/>\n",
       "<path class=\"bond-20 atom-20 atom-21\" d=\"M 333.7,68.0 L 339.5,73.3 L 309.2,82.7 L 303.5,77.4 Z\" style=\"fill:#1BBC9B;fill-rule:evenodd;fill-opacity:1;stroke:#1BBC9B;stroke-width:0.0px;stroke-linecap:butt;stroke-linejoin:miter;stroke-opacity:1;\"/>\n",
       "<path class=\"bond-21 atom-21 atom-22\" d=\"M 340.2,38.9 L 346.8,40.4 L 339.5,73.3 L 333.7,68.0 Z\" style=\"fill:#1BBC9B;fill-rule:evenodd;fill-opacity:1;stroke:#1BBC9B;stroke-width:0.0px;stroke-linecap:butt;stroke-linejoin:miter;stroke-opacity:1;\"/>\n",
       "<ellipse class=\"atom-0\" cx=\"101.4\" cy=\"115.3\" rx=\"6.3\" ry=\"6.3\" style=\"fill:#1BBC9B;fill-rule:evenodd;stroke:#1BBC9B;stroke-width:1.0px;stroke-linecap:butt;stroke-linejoin:miter;stroke-opacity:1\"/>\n",
       "<ellipse class=\"atom-1\" cx=\"108.4\" cy=\"84.4\" rx=\"6.3\" ry=\"6.5\" style=\"fill:#1BBC9B;fill-rule:evenodd;stroke:#1BBC9B;stroke-width:1.0px;stroke-linecap:butt;stroke-linejoin:miter;stroke-opacity:1\"/>\n",
       "<ellipse class=\"atom-2\" cx=\"71.2\" cy=\"124.8\" rx=\"6.3\" ry=\"6.5\" style=\"fill:#1BBC9B;fill-rule:evenodd;stroke:#1BBC9B;stroke-width:1.0px;stroke-linecap:butt;stroke-linejoin:miter;stroke-opacity:1\"/>\n",
       "<ellipse class=\"atom-3\" cx=\"47.8\" cy=\"103.2\" rx=\"6.3\" ry=\"6.3\" style=\"fill:#1BBC9B;fill-rule:evenodd;stroke:#1BBC9B;stroke-width:1.0px;stroke-linecap:butt;stroke-linejoin:miter;stroke-opacity:1\"/>\n",
       "<ellipse class=\"atom-4\" cx=\"26.4\" cy=\"126.5\" rx=\"6.3\" ry=\"6.3\" style=\"fill:#1BBC9B;fill-rule:evenodd;stroke:#1BBC9B;stroke-width:1.0px;stroke-linecap:butt;stroke-linejoin:miter;stroke-opacity:1\"/>\n",
       "<ellipse class=\"atom-5\" cx=\"69.3\" cy=\"79.9\" rx=\"6.3\" ry=\"6.3\" style=\"fill:#1BBC9B;fill-rule:evenodd;stroke:#1BBC9B;stroke-width:1.0px;stroke-linecap:butt;stroke-linejoin:miter;stroke-opacity:1\"/>\n",
       "<ellipse class=\"atom-6\" cx=\"24.5\" cy=\"81.7\" rx=\"6.3\" ry=\"6.3\" style=\"fill:#1BBC9B;fill-rule:evenodd;stroke:#1BBC9B;stroke-width:1.0px;stroke-linecap:butt;stroke-linejoin:miter;stroke-opacity:1\"/>\n",
       "<ellipse class=\"atom-7\" cx=\"124.7\" cy=\"136.7\" rx=\"6.3\" ry=\"6.3\" style=\"fill:#1BBC9B;fill-rule:evenodd;stroke:#1BBC9B;stroke-width:1.0px;stroke-linecap:butt;stroke-linejoin:miter;stroke-opacity:1\"/>\n",
       "<ellipse class=\"atom-11\" cx=\"215.5\" cy=\"108.4\" rx=\"6.3\" ry=\"6.3\" style=\"fill:#1BBC9B;fill-rule:evenodd;stroke:#1BBC9B;stroke-width:1.0px;stroke-linecap:butt;stroke-linejoin:miter;stroke-opacity:1\"/>\n",
       "<ellipse class=\"atom-12\" cx=\"245.8\" cy=\"98.9\" rx=\"6.3\" ry=\"6.3\" style=\"fill:#1BBC9B;fill-rule:evenodd;stroke:#1BBC9B;stroke-width:1.0px;stroke-linecap:butt;stroke-linejoin:miter;stroke-opacity:1\"/>\n",
       "<ellipse class=\"atom-13\" cx=\"269.1\" cy=\"120.4\" rx=\"6.3\" ry=\"6.3\" style=\"fill:#1BBC9B;fill-rule:evenodd;stroke:#1BBC9B;stroke-width:1.0px;stroke-linecap:butt;stroke-linejoin:miter;stroke-opacity:1\"/>\n",
       "<ellipse class=\"atom-14\" cx=\"262.2\" cy=\"151.4\" rx=\"6.3\" ry=\"6.3\" style=\"fill:#1BBC9B;fill-rule:evenodd;stroke:#1BBC9B;stroke-width:1.0px;stroke-linecap:butt;stroke-linejoin:miter;stroke-opacity:1\"/>\n",
       "<ellipse class=\"atom-15\" cx=\"231.9\" cy=\"160.8\" rx=\"6.3\" ry=\"6.3\" style=\"fill:#1BBC9B;fill-rule:evenodd;stroke:#1BBC9B;stroke-width:1.0px;stroke-linecap:butt;stroke-linejoin:miter;stroke-opacity:1\"/>\n",
       "<ellipse class=\"atom-16\" cx=\"299.4\" cy=\"111.0\" rx=\"6.3\" ry=\"6.3\" style=\"fill:#1BBC9B;fill-rule:evenodd;stroke:#1BBC9B;stroke-width:1.0px;stroke-linecap:butt;stroke-linejoin:miter;stroke-opacity:1\"/>\n",
       "<ellipse class=\"atom-17\" cx=\"322.7\" cy=\"132.5\" rx=\"6.3\" ry=\"6.3\" style=\"fill:#1BBC9B;fill-rule:evenodd;stroke:#1BBC9B;stroke-width:1.0px;stroke-linecap:butt;stroke-linejoin:miter;stroke-opacity:1\"/>\n",
       "<ellipse class=\"atom-18\" cx=\"353.0\" cy=\"123.0\" rx=\"6.3\" ry=\"6.3\" style=\"fill:#1BBC9B;fill-rule:evenodd;stroke:#1BBC9B;stroke-width:1.0px;stroke-linecap:butt;stroke-linejoin:miter;stroke-opacity:1\"/>\n",
       "<ellipse class=\"atom-20\" cx=\"306.3\" cy=\"80.1\" rx=\"6.3\" ry=\"6.3\" style=\"fill:#1BBC9B;fill-rule:evenodd;stroke:#1BBC9B;stroke-width:1.0px;stroke-linecap:butt;stroke-linejoin:miter;stroke-opacity:1\"/>\n",
       "<ellipse class=\"atom-21\" cx=\"336.6\" cy=\"70.6\" rx=\"6.3\" ry=\"6.3\" style=\"fill:#1BBC9B;fill-rule:evenodd;stroke:#1BBC9B;stroke-width:1.0px;stroke-linecap:butt;stroke-linejoin:miter;stroke-opacity:1\"/>\n",
       "<ellipse class=\"atom-22\" cx=\"344.6\" cy=\"39.7\" rx=\"6.4\" ry=\"6.9\" style=\"fill:#1BBC9B;fill-rule:evenodd;stroke:#1BBC9B;stroke-width:1.0px;stroke-linecap:butt;stroke-linejoin:miter;stroke-opacity:1\"/>\n",
       "<path class=\"bond-0 atom-0 atom-1\" d=\"M 103.4,117.1 L 109.4,90.6\" style=\"fill:none;fill-rule:evenodd;stroke:#000000;stroke-width:2.0px;stroke-linecap:butt;stroke-linejoin:miter;stroke-opacity:1\"/>\n",
       "<path class=\"bond-0 atom-0 atom-1\" d=\"M 98.8,116.1 L 104.8,89.5\" style=\"fill:none;fill-rule:evenodd;stroke:#000000;stroke-width:2.0px;stroke-linecap:butt;stroke-linejoin:miter;stroke-opacity:1\"/>\n",
       "<path class=\"bond-1 atom-0 atom-2\" d=\"M 101.4,115.3 L 76.3,123.1\" style=\"fill:none;fill-rule:evenodd;stroke:#000000;stroke-width:2.0px;stroke-linecap:butt;stroke-linejoin:miter;stroke-opacity:1\"/>\n",
       "<path class=\"bond-2 atom-2 atom-3\" d=\"M 66.0,119.9 L 47.8,103.2\" style=\"fill:none;fill-rule:evenodd;stroke:#000000;stroke-width:2.0px;stroke-linecap:butt;stroke-linejoin:miter;stroke-opacity:1\"/>\n",
       "<path class=\"bond-3 atom-3 atom-4\" d=\"M 47.8,103.2 L 26.4,126.5\" style=\"fill:none;fill-rule:evenodd;stroke:#000000;stroke-width:2.0px;stroke-linecap:butt;stroke-linejoin:miter;stroke-opacity:1\"/>\n",
       "<path class=\"bond-4 atom-3 atom-5\" d=\"M 47.8,103.2 L 69.3,79.9\" style=\"fill:none;fill-rule:evenodd;stroke:#000000;stroke-width:2.0px;stroke-linecap:butt;stroke-linejoin:miter;stroke-opacity:1\"/>\n",
       "<path class=\"bond-5 atom-3 atom-6\" d=\"M 47.8,103.2 L 24.5,81.7\" style=\"fill:none;fill-rule:evenodd;stroke:#000000;stroke-width:2.0px;stroke-linecap:butt;stroke-linejoin:miter;stroke-opacity:1\"/>\n",
       "<path class=\"bond-6 atom-0 atom-7\" d=\"M 101.4,115.3 L 124.7,136.7\" style=\"fill:none;fill-rule:evenodd;stroke:#000000;stroke-width:2.0px;stroke-linecap:butt;stroke-linejoin:miter;stroke-opacity:1\"/>\n",
       "<path class=\"bond-7 atom-7 atom-8\" d=\"M 124.7,136.7 L 155.0,127.3\" style=\"fill:none;fill-rule:evenodd;stroke:#000000;stroke-width:2.0px;stroke-linecap:butt;stroke-linejoin:miter;stroke-opacity:1\"/>\n",
       "<path class=\"bond-8 atom-8 atom-9\" d=\"M 155.0,127.3 L 178.3,148.8\" style=\"fill:none;fill-rule:evenodd;stroke:#000000;stroke-width:2.0px;stroke-linecap:butt;stroke-linejoin:miter;stroke-opacity:1\"/>\n",
       "<path class=\"bond-9 atom-9 atom-10\" d=\"M 178.3,148.8 L 208.6,139.3\" style=\"fill:none;fill-rule:evenodd;stroke:#000000;stroke-width:2.0px;stroke-linecap:butt;stroke-linejoin:miter;stroke-opacity:1\"/>\n",
       "<path class=\"bond-10 atom-10 atom-11\" d=\"M 208.6,139.3 L 215.5,108.4\" style=\"fill:none;fill-rule:evenodd;stroke:#000000;stroke-width:2.0px;stroke-linecap:butt;stroke-linejoin:miter;stroke-opacity:1\"/>\n",
       "<path class=\"bond-10 atom-10 atom-11\" d=\"M 213.8,137.7 L 219.6,112.1\" style=\"fill:none;fill-rule:evenodd;stroke:#000000;stroke-width:2.0px;stroke-linecap:butt;stroke-linejoin:miter;stroke-opacity:1\"/>\n",
       "<path class=\"bond-11 atom-11 atom-12\" d=\"M 215.5,108.4 L 245.8,98.9\" style=\"fill:none;fill-rule:evenodd;stroke:#000000;stroke-width:2.0px;stroke-linecap:butt;stroke-linejoin:miter;stroke-opacity:1\"/>\n",
       "<path class=\"bond-12 atom-12 atom-13\" d=\"M 245.8,98.9 L 269.1,120.4\" style=\"fill:none;fill-rule:evenodd;stroke:#000000;stroke-width:2.0px;stroke-linecap:butt;stroke-linejoin:miter;stroke-opacity:1\"/>\n",
       "<path class=\"bond-12 atom-12 atom-13\" d=\"M 244.6,104.3 L 263.9,122.1\" style=\"fill:none;fill-rule:evenodd;stroke:#000000;stroke-width:2.0px;stroke-linecap:butt;stroke-linejoin:miter;stroke-opacity:1\"/>\n",
       "<path class=\"bond-13 atom-13 atom-14\" d=\"M 269.1,120.4 L 262.2,151.4\" style=\"fill:none;fill-rule:evenodd;stroke:#000000;stroke-width:2.0px;stroke-linecap:butt;stroke-linejoin:miter;stroke-opacity:1\"/>\n",
       "<path class=\"bond-14 atom-14 atom-15\" d=\"M 262.2,151.4 L 231.9,160.8\" style=\"fill:none;fill-rule:evenodd;stroke:#000000;stroke-width:2.0px;stroke-linecap:butt;stroke-linejoin:miter;stroke-opacity:1\"/>\n",
       "<path class=\"bond-14 atom-14 atom-15\" d=\"M 258.1,147.6 L 233.1,155.5\" style=\"fill:none;fill-rule:evenodd;stroke:#000000;stroke-width:2.0px;stroke-linecap:butt;stroke-linejoin:miter;stroke-opacity:1\"/>\n",
       "<path class=\"bond-15 atom-13 atom-16\" d=\"M 269.1,120.4 L 294.9,112.4\" style=\"fill:none;fill-rule:evenodd;stroke:#000000;stroke-width:2.0px;stroke-linecap:butt;stroke-linejoin:miter;stroke-opacity:1\"/>\n",
       "<path class=\"bond-16 atom-16 atom-17\" d=\"M 303.8,115.1 L 322.7,132.5\" style=\"fill:none;fill-rule:evenodd;stroke:#000000;stroke-width:2.0px;stroke-linecap:butt;stroke-linejoin:miter;stroke-opacity:1\"/>\n",
       "<path class=\"bond-17 atom-17 atom-18\" d=\"M 322.7,132.5 L 353.0,123.0\" style=\"fill:none;fill-rule:evenodd;stroke:#000000;stroke-width:2.0px;stroke-linecap:butt;stroke-linejoin:miter;stroke-opacity:1\"/>\n",
       "<path class=\"bond-18 atom-18 atom-19\" d=\"M 353.0,123.0 L 371.8,140.4\" style=\"fill:none;fill-rule:evenodd;stroke:#000000;stroke-width:2.0px;stroke-linecap:butt;stroke-linejoin:miter;stroke-opacity:1\"/>\n",
       "<path class=\"bond-19 atom-16 atom-20\" d=\"M 300.6,105.5 L 306.3,80.1\" style=\"fill:none;fill-rule:evenodd;stroke:#000000;stroke-width:2.0px;stroke-linecap:butt;stroke-linejoin:miter;stroke-opacity:1\"/>\n",
       "<path class=\"bond-20 atom-20 atom-21\" d=\"M 306.3,80.1 L 336.6,70.6\" style=\"fill:none;fill-rule:evenodd;stroke:#000000;stroke-width:2.0px;stroke-linecap:butt;stroke-linejoin:miter;stroke-opacity:1\"/>\n",
       "<path class=\"bond-21 atom-21 atom-22\" d=\"M 336.6,70.6 L 342.2,45.6\" style=\"fill:none;fill-rule:evenodd;stroke:#000000;stroke-width:2.0px;stroke-linecap:butt;stroke-linejoin:miter;stroke-opacity:1\"/>\n",
       "<path class=\"bond-22 atom-15 atom-10\" d=\"M 231.9,160.8 L 208.6,139.3\" style=\"fill:none;fill-rule:evenodd;stroke:#000000;stroke-width:2.0px;stroke-linecap:butt;stroke-linejoin:miter;stroke-opacity:1\"/>\n",
       "<path d=\"M 100.2,115.6 L 101.4,115.3 L 102.6,116.3\" style=\"fill:none;stroke:#000000;stroke-width:2.0px;stroke-linecap:butt;stroke-linejoin:miter;stroke-opacity:1;\"/>\n",
       "<path d=\"M 123.6,135.7 L 124.7,136.7 L 126.2,136.3\" style=\"fill:none;stroke:#000000;stroke-width:2.0px;stroke-linecap:butt;stroke-linejoin:miter;stroke-opacity:1;\"/>\n",
       "<path d=\"M 153.5,127.8 L 155.0,127.3 L 156.2,128.4\" style=\"fill:none;stroke:#000000;stroke-width:2.0px;stroke-linecap:butt;stroke-linejoin:miter;stroke-opacity:1;\"/>\n",
       "<path d=\"M 177.2,147.7 L 178.3,148.8 L 179.8,148.3\" style=\"fill:none;stroke:#000000;stroke-width:2.0px;stroke-linecap:butt;stroke-linejoin:miter;stroke-opacity:1;\"/>\n",
       "<path d=\"M 215.2,109.9 L 215.5,108.4 L 217.0,107.9\" style=\"fill:none;stroke:#000000;stroke-width:2.0px;stroke-linecap:butt;stroke-linejoin:miter;stroke-opacity:1;\"/>\n",
       "<path d=\"M 244.3,99.4 L 245.8,98.9 L 247.0,100.0\" style=\"fill:none;stroke:#000000;stroke-width:2.0px;stroke-linecap:butt;stroke-linejoin:miter;stroke-opacity:1;\"/>\n",
       "<path d=\"M 262.5,149.8 L 262.2,151.4 L 260.7,151.8\" style=\"fill:none;stroke:#000000;stroke-width:2.0px;stroke-linecap:butt;stroke-linejoin:miter;stroke-opacity:1;\"/>\n",
       "<path d=\"M 233.4,160.3 L 231.9,160.8 L 230.7,159.7\" style=\"fill:none;stroke:#000000;stroke-width:2.0px;stroke-linecap:butt;stroke-linejoin:miter;stroke-opacity:1;\"/>\n",
       "<path d=\"M 321.8,131.6 L 322.7,132.5 L 324.2,132.0\" style=\"fill:none;stroke:#000000;stroke-width:2.0px;stroke-linecap:butt;stroke-linejoin:miter;stroke-opacity:1;\"/>\n",
       "<path d=\"M 351.4,123.5 L 353.0,123.0 L 353.9,123.9\" style=\"fill:none;stroke:#000000;stroke-width:2.0px;stroke-linecap:butt;stroke-linejoin:miter;stroke-opacity:1;\"/>\n",
       "<path d=\"M 306.0,81.3 L 306.3,80.1 L 307.8,79.6\" style=\"fill:none;stroke:#000000;stroke-width:2.0px;stroke-linecap:butt;stroke-linejoin:miter;stroke-opacity:1;\"/>\n",
       "<path d=\"M 335.1,71.1 L 336.6,70.6 L 336.9,69.4\" style=\"fill:none;stroke:#000000;stroke-width:2.0px;stroke-linecap:butt;stroke-linejoin:miter;stroke-opacity:1;\"/>\n",
       "<path class=\"atom-1\" d=\"M 104.2 84.3 Q 104.2 82.2, 105.3 81.0 Q 106.4 79.8, 108.4 79.8 Q 110.4 79.8, 111.4 81.0 Q 112.5 82.2, 112.5 84.3 Q 112.5 86.5, 111.4 87.8 Q 110.3 89.0, 108.4 89.0 Q 106.4 89.0, 105.3 87.8 Q 104.2 86.5, 104.2 84.3 M 108.4 88.0 Q 109.7 88.0, 110.5 87.1 Q 111.2 86.1, 111.2 84.3 Q 111.2 82.6, 110.5 81.7 Q 109.7 80.8, 108.4 80.8 Q 107.0 80.8, 106.3 81.7 Q 105.5 82.6, 105.5 84.3 Q 105.5 86.2, 106.3 87.1 Q 107.0 88.0, 108.4 88.0 \" fill=\"#000000\"/>\n",
       "<path class=\"atom-2\" d=\"M 67.0 124.7 Q 67.0 122.6, 68.1 121.4 Q 69.2 120.2, 71.2 120.2 Q 73.1 120.2, 74.2 121.4 Q 75.3 122.6, 75.3 124.7 Q 75.3 126.9, 74.2 128.2 Q 73.1 129.4, 71.2 129.4 Q 69.2 129.4, 68.1 128.2 Q 67.0 126.9, 67.0 124.7 M 71.2 128.4 Q 72.5 128.4, 73.3 127.5 Q 74.0 126.5, 74.0 124.7 Q 74.0 123.0, 73.3 122.1 Q 72.5 121.2, 71.2 121.2 Q 69.8 121.2, 69.0 122.1 Q 68.3 123.0, 68.3 124.7 Q 68.3 126.5, 69.0 127.5 Q 69.8 128.4, 71.2 128.4 \" fill=\"#000000\"/>\n",
       "<path class=\"atom-16\" d=\"M 297.4 106.5 L 300.3 111.3 Q 300.6 111.7, 301.1 112.6 Q 301.6 113.4, 301.6 113.5 L 301.6 106.5 L 302.8 106.5 L 302.8 115.5 L 301.6 115.5 L 298.4 110.3 Q 298.0 109.7, 297.6 109.0 Q 297.3 108.3, 297.1 108.1 L 297.1 115.5 L 296.0 115.5 L 296.0 106.5 L 297.4 106.5 \" fill=\"#000000\"/>\n",
       "<path class=\"atom-19\" d=\"M 372.8 144.8 Q 372.8 142.6, 373.9 141.4 Q 374.9 140.2, 376.9 140.2 Q 378.8 140.2, 379.7 141.6 L 378.9 142.2 Q 378.2 141.3, 376.9 141.3 Q 375.5 141.3, 374.8 142.2 Q 374.1 143.1, 374.1 144.8 Q 374.1 146.6, 374.8 147.5 Q 375.6 148.4, 377.0 148.4 Q 378.0 148.4, 379.2 147.8 L 379.5 148.8 Q 379.1 149.1, 378.4 149.3 Q 377.6 149.4, 376.9 149.4 Q 374.9 149.4, 373.9 148.2 Q 372.8 147.1, 372.8 144.8 \" fill=\"#000000\"/>\n",
       "<path class=\"atom-19\" d=\"M 380.7 139.7 L 381.8 139.7 L 381.8 149.3 L 380.7 149.3 L 380.7 139.7 \" fill=\"#000000\"/>\n",
       "<path class=\"atom-22\" d=\"M 340.1 40.0 Q 340.1 37.7, 341.1 36.6 Q 342.2 35.4, 344.2 35.4 Q 346.0 35.4, 347.0 36.7 L 346.2 37.4 Q 345.4 36.4, 344.2 36.4 Q 342.8 36.4, 342.1 37.4 Q 341.4 38.3, 341.4 40.0 Q 341.4 41.8, 342.1 42.7 Q 342.9 43.6, 344.3 43.6 Q 345.3 43.6, 346.5 43.0 L 346.8 43.9 Q 346.3 44.2, 345.6 44.4 Q 344.9 44.6, 344.1 44.6 Q 342.2 44.6, 341.1 43.4 Q 340.1 42.2, 340.1 40.0 \" fill=\"#000000\"/>\n",
       "<path class=\"atom-22\" d=\"M 347.9 34.9 L 349.1 34.9 L 349.1 44.5 L 347.9 44.5 L 347.9 34.9 \" fill=\"#000000\"/>\n",
       "</svg>"
      ],
      "text/plain": [
       "<IPython.core.display.SVG object>"
      ]
     },
     "execution_count": 6,
     "metadata": {},
     "output_type": "execute_result"
    }
   ],
   "source": [
    "from IPython.display import SVG\n",
    "SVG(svgs[0])"
   ]
  },
  {
   "cell_type": "code",
   "execution_count": null,
   "metadata": {},
   "outputs": [],
   "source": []
  },
  {
   "cell_type": "code",
   "execution_count": null,
   "metadata": {},
   "outputs": [],
   "source": []
  }
 ],
 "metadata": {
  "kernelspec": {
   "display_name": "MolRep",
   "language": "python",
   "name": "python3"
  },
  "language_info": {
   "codemirror_mode": {
    "name": "ipython",
    "version": 3
   },
   "file_extension": ".py",
   "mimetype": "text/x-python",
   "name": "python",
   "nbconvert_exporter": "python",
   "pygments_lexer": "ipython3",
   "version": "3.7.9"
  },
  "orig_nbformat": 4
 },
 "nbformat": 4,
 "nbformat_minor": 2
}
