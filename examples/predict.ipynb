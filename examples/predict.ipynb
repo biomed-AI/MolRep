{
 "cells": [
  {
   "cell_type": "code",
   "execution_count": 1,
   "metadata": {},
   "outputs": [
    {
     "name": "stdout",
     "output_type": "stream",
     "text": [
      "==================================================\n",
      "Architectures                  Types\n",
      "==================================================\n",
      "cmpnn                          graph_learning\n",
      "diffpool                       graph_learning\n",
      "dmpnn                          graph_learning\n",
      "gat                            graph_learning\n",
      "gin                            graph_learning\n",
      "graphnet                       graph_learning\n",
      "graphsage                      graph_learning\n",
      "mpnn                           graph_learning\n",
      "graphformer                    graph_learning\n",
      "attr_masking                   pretraining\n",
      "edge_pred                      pretraining\n",
      "context_pred                   pretraining\n",
      "==================================================\n"
     ]
    }
   ],
   "source": [
    "from molrep import model_zoo\n",
    "print(model_zoo)"
   ]
  },
  {
   "cell_type": "code",
   "execution_count": null,
   "metadata": {},
   "outputs": [],
   "source": []
  },
  {
   "cell_type": "code",
   "execution_count": 2,
   "metadata": {},
   "outputs": [],
   "source": [
    "from molrep import load_model_and_preprocess, load_explainer, expalin_and_visualize"
   ]
  },
  {
   "cell_type": "code",
   "execution_count": 3,
   "metadata": {},
   "outputs": [
    {
     "name": "stdout",
     "output_type": "stream",
     "text": [
      "Missing keys []\n",
      "load checkpoint from /data/user/raojh/worksapce/MolRep-v2/model_checkpoints/gin_ogbg-molbbbp_best.pth\n"
     ]
    }
   ],
   "source": [
    "model, preprocess = load_model_and_preprocess('gin', 'ogbg-molbbbp', device='cuda')"
   ]
  },
  {
   "cell_type": "code",
   "execution_count": 4,
   "metadata": {},
   "outputs": [],
   "source": [
    "mols, data = preprocess.process([\n",
    "    'C(=O)(OC(C)(C)C)CCCc1ccc(cc1)N(CCCl)CCCl',\n",
    "    'C1CCN(CC1)Cc1cccc(c1)OCCCNC(=O)C',\n",
    "    'FC1=CNC(=O)NC1=O',\n",
    "    'OCC(C)(O)c1onc(c2ncn3c2CN(C)C(c4c3cccc4Cl)=O)n1',\n",
    "    'CN1CCN(CCCN2c3ccccc3Sc4ccc(cc24)C(F)(F)F)CC1',\n",
    "])"
   ]
  },
  {
   "cell_type": "code",
   "execution_count": 5,
   "metadata": {},
   "outputs": [
    {
     "data": {
      "text/plain": [
       "array([[0.9376302 ],\n",
       "       [0.9132353 ],\n",
       "       [0.91906893],\n",
       "       [0.92174065],\n",
       "       [0.93079257]], dtype=float32)"
      ]
     },
     "execution_count": 5,
     "metadata": {},
     "output_type": "execute_result"
    }
   ],
   "source": [
    "model.predict(data, task='classification')"
   ]
  },
  {
   "cell_type": "code",
   "execution_count": null,
   "metadata": {},
   "outputs": [],
   "source": []
  },
  {
   "cell_type": "code",
   "execution_count": 6,
   "metadata": {},
   "outputs": [],
   "source": [
    "explainer = load_explainer('cam')"
   ]
  },
  {
   "cell_type": "code",
   "execution_count": 7,
   "metadata": {},
   "outputs": [],
   "source": [
    "svgs = expalin_and_visualize(explainer, model, data)"
   ]
  },
  {
   "cell_type": "code",
   "execution_count": 8,
   "metadata": {},
   "outputs": [
    {
     "data": {
      "image/svg+xml": [
       "<svg baseProfile=\"full\" height=\"200px\" version=\"1.1\" viewBox=\"0 0 400 200\" width=\"400px\" xml:space=\"preserve\" xmlns=\"http://www.w3.org/2000/svg\" xmlns:rdkit=\"http://www.rdkit.org/xml\" xmlns:xlink=\"http://www.w3.org/1999/xlink\">\n",
       "<!-- END OF HEADER -->\n",
       "<rect height=\"200.0\" style=\"opacity:1.0;fill:#FFFFFF;stroke:none\" width=\"400.0\" x=\"0.0\" y=\"0.0\"> </rect>\n",
       "<path class=\"bond-0 atom-0 atom-1\" d=\"M 105.1,82.6 L 111.7,84.1 L 105.1,113.1 L 101.4,114.2 L 98.5,111.6 Z\" style=\"fill:#1BBC9B;fill-rule:evenodd;fill-opacity:1;stroke:#1BBC9B;stroke-width:0.0px;stroke-linecap:butt;stroke-linejoin:miter;stroke-opacity:1;\"/>\n",
       "<path class=\"bond-1 atom-0 atom-2\" d=\"M 98.5,111.6 L 101.4,114.2 L 100.6,118.1 L 70.3,127.5 L 72.0,119.9 Z\" style=\"fill:#1BBC9B;fill-rule:evenodd;fill-opacity:1;stroke:#1BBC9B;stroke-width:0.0px;stroke-linecap:butt;stroke-linejoin:miter;stroke-opacity:1;\"/>\n",
       "<path class=\"bond-6 atom-0 atom-7\" d=\"M 105.1,113.1 L 127.0,133.2 L 122.4,138.2 L 100.6,118.1 L 101.4,114.2 Z\" style=\"fill:#1BBC9B;fill-rule:evenodd;fill-opacity:1;stroke:#1BBC9B;stroke-width:0.0px;stroke-linecap:butt;stroke-linejoin:miter;stroke-opacity:1;\"/>\n",
       "<path class=\"bond-2 atom-2 atom-3\" d=\"M 52.6,102.0 L 72.0,119.9 L 70.3,127.5 L 48.0,107.0 L 47.8,102.2 Z\" style=\"fill:#1BBC9B;fill-rule:evenodd;fill-opacity:1;stroke:#1BBC9B;stroke-width:0.0px;stroke-linecap:butt;stroke-linejoin:miter;stroke-opacity:1;\"/>\n",
       "<path class=\"bond-3 atom-3 atom-4\" d=\"M 47.8,102.2 L 48.0,107.0 L 28.8,127.8 L 23.9,123.2 L 43.1,102.4 Z\" style=\"fill:#1BBC9B;fill-rule:evenodd;fill-opacity:1;stroke:#1BBC9B;stroke-width:0.0px;stroke-linecap:butt;stroke-linejoin:miter;stroke-opacity:1;\"/>\n",
       "<path class=\"bond-4 atom-3 atom-5\" d=\"M 66.8,76.6 L 71.8,81.2 L 52.6,102.0 L 47.8,102.2 L 47.6,97.4 Z\" style=\"fill:#1BBC9B;fill-rule:evenodd;fill-opacity:1;stroke:#1BBC9B;stroke-width:0.0px;stroke-linecap:butt;stroke-linejoin:miter;stroke-opacity:1;\"/>\n",
       "<path class=\"bond-5 atom-3 atom-6\" d=\"M 26.8,78.2 L 47.6,97.4 L 47.8,102.2 L 43.1,102.4 L 22.2,83.2 Z\" style=\"fill:#1BBC9B;fill-rule:evenodd;fill-opacity:1;stroke:#1BBC9B;stroke-width:0.0px;stroke-linecap:butt;stroke-linejoin:miter;stroke-opacity:1;\"/>\n",
       "<path class=\"bond-11 atom-11 atom-12\" d=\"M 246.7,94.1 L 244.9,101.8 L 216.5,110.6 L 214.5,104.2 Z\" style=\"fill:#1BBC9B;fill-rule:evenodd;fill-opacity:1;stroke:#1BBC9B;stroke-width:0.0px;stroke-linecap:butt;stroke-linejoin:miter;stroke-opacity:1;\"/>\n",
       "<path class=\"bond-12 atom-12 atom-13\" d=\"M 246.7,94.1 L 270.0,115.6 L 269.1,119.4 L 265.4,120.6 L 244.9,101.8 Z\" style=\"fill:#1BBC9B;fill-rule:evenodd;fill-opacity:1;stroke:#1BBC9B;stroke-width:0.0px;stroke-linecap:butt;stroke-linejoin:miter;stroke-opacity:1;\"/>\n",
       "<path class=\"bond-13 atom-13 atom-14\" d=\"M 269.1,119.4 L 272.0,122.1 L 265.0,153.0 L 259.3,147.7 L 265.4,120.6 Z\" style=\"fill:#1BBC9B;fill-rule:evenodd;fill-opacity:1;stroke:#1BBC9B;stroke-width:0.0px;stroke-linecap:butt;stroke-linejoin:miter;stroke-opacity:1;\"/>\n",
       "<path class=\"bond-15 atom-13 atom-16\" d=\"M 300.2,106.2 L 298.5,113.8 L 272.0,122.1 L 269.1,119.4 L 270.0,115.6 Z\" style=\"fill:#1BBC9B;fill-rule:evenodd;fill-opacity:1;stroke:#1BBC9B;stroke-width:0.0px;stroke-linecap:butt;stroke-linejoin:miter;stroke-opacity:1;\"/>\n",
       "<path class=\"bond-14 atom-14 atom-15\" d=\"M 259.3,147.7 L 265.0,153.0 L 232.9,163.0 L 230.9,156.6 Z\" style=\"fill:#1BBC9B;fill-rule:evenodd;fill-opacity:1;stroke:#1BBC9B;stroke-width:0.0px;stroke-linecap:butt;stroke-linejoin:miter;stroke-opacity:1;\"/>\n",
       "<path class=\"bond-16 atom-16 atom-17\" d=\"M 300.2,106.2 L 323.6,127.7 L 321.8,135.3 L 298.5,113.8 Z\" style=\"fill:#1BBC9B;fill-rule:evenodd;fill-opacity:1;stroke:#1BBC9B;stroke-width:0.0px;stroke-linecap:butt;stroke-linejoin:miter;stroke-opacity:1;\"/>\n",
       "<path class=\"bond-17 atom-17 atom-18\" d=\"M 352.0,118.8 L 354.0,125.2 L 321.8,135.3 L 323.6,127.7 Z\" style=\"fill:#1BBC9B;fill-rule:evenodd;fill-opacity:1;stroke:#1BBC9B;stroke-width:0.0px;stroke-linecap:butt;stroke-linejoin:miter;stroke-opacity:1;\"/>\n",
       "<ellipse class=\"atom-0\" cx=\"101.4\" cy=\"114.2\" rx=\"6.3\" ry=\"6.3\" style=\"fill:#1BBC9B;fill-rule:evenodd;stroke:#1BBC9B;stroke-width:1.0px;stroke-linecap:butt;stroke-linejoin:miter;stroke-opacity:1\"/>\n",
       "<ellipse class=\"atom-1\" cx=\"108.4\" cy=\"83.4\" rx=\"6.3\" ry=\"6.5\" style=\"fill:#1BBC9B;fill-rule:evenodd;stroke:#1BBC9B;stroke-width:1.0px;stroke-linecap:butt;stroke-linejoin:miter;stroke-opacity:1\"/>\n",
       "<ellipse class=\"atom-2\" cx=\"71.2\" cy=\"123.8\" rx=\"6.3\" ry=\"6.5\" style=\"fill:#1BBC9B;fill-rule:evenodd;stroke:#1BBC9B;stroke-width:1.0px;stroke-linecap:butt;stroke-linejoin:miter;stroke-opacity:1\"/>\n",
       "<ellipse class=\"atom-3\" cx=\"47.8\" cy=\"102.2\" rx=\"6.3\" ry=\"6.3\" style=\"fill:#1BBC9B;fill-rule:evenodd;stroke:#1BBC9B;stroke-width:1.0px;stroke-linecap:butt;stroke-linejoin:miter;stroke-opacity:1\"/>\n",
       "<ellipse class=\"atom-4\" cx=\"26.4\" cy=\"125.5\" rx=\"6.3\" ry=\"6.3\" style=\"fill:#1BBC9B;fill-rule:evenodd;stroke:#1BBC9B;stroke-width:1.0px;stroke-linecap:butt;stroke-linejoin:miter;stroke-opacity:1\"/>\n",
       "<ellipse class=\"atom-5\" cx=\"69.3\" cy=\"78.9\" rx=\"6.3\" ry=\"6.3\" style=\"fill:#1BBC9B;fill-rule:evenodd;stroke:#1BBC9B;stroke-width:1.0px;stroke-linecap:butt;stroke-linejoin:miter;stroke-opacity:1\"/>\n",
       "<ellipse class=\"atom-6\" cx=\"24.5\" cy=\"80.7\" rx=\"6.3\" ry=\"6.3\" style=\"fill:#1BBC9B;fill-rule:evenodd;stroke:#1BBC9B;stroke-width:1.0px;stroke-linecap:butt;stroke-linejoin:miter;stroke-opacity:1\"/>\n",
       "<ellipse class=\"atom-7\" cx=\"124.7\" cy=\"135.7\" rx=\"6.3\" ry=\"6.3\" style=\"fill:#1BBC9B;fill-rule:evenodd;stroke:#1BBC9B;stroke-width:1.0px;stroke-linecap:butt;stroke-linejoin:miter;stroke-opacity:1\"/>\n",
       "<ellipse class=\"atom-11\" cx=\"215.5\" cy=\"107.4\" rx=\"6.3\" ry=\"6.3\" style=\"fill:#1BBC9B;fill-rule:evenodd;stroke:#1BBC9B;stroke-width:1.0px;stroke-linecap:butt;stroke-linejoin:miter;stroke-opacity:1\"/>\n",
       "<ellipse class=\"atom-12\" cx=\"245.8\" cy=\"97.9\" rx=\"6.3\" ry=\"6.3\" style=\"fill:#1BBC9B;fill-rule:evenodd;stroke:#1BBC9B;stroke-width:1.0px;stroke-linecap:butt;stroke-linejoin:miter;stroke-opacity:1\"/>\n",
       "<ellipse class=\"atom-13\" cx=\"269.1\" cy=\"119.4\" rx=\"6.3\" ry=\"6.3\" style=\"fill:#1BBC9B;fill-rule:evenodd;stroke:#1BBC9B;stroke-width:1.0px;stroke-linecap:butt;stroke-linejoin:miter;stroke-opacity:1\"/>\n",
       "<ellipse class=\"atom-14\" cx=\"262.2\" cy=\"150.4\" rx=\"6.3\" ry=\"6.3\" style=\"fill:#1BBC9B;fill-rule:evenodd;stroke:#1BBC9B;stroke-width:1.0px;stroke-linecap:butt;stroke-linejoin:miter;stroke-opacity:1\"/>\n",
       "<ellipse class=\"atom-15\" cx=\"231.9\" cy=\"159.8\" rx=\"6.3\" ry=\"6.3\" style=\"fill:#1BBC9B;fill-rule:evenodd;stroke:#1BBC9B;stroke-width:1.0px;stroke-linecap:butt;stroke-linejoin:miter;stroke-opacity:1\"/>\n",
       "<ellipse class=\"atom-16\" cx=\"299.4\" cy=\"110.0\" rx=\"6.3\" ry=\"6.3\" style=\"fill:#1BBC9B;fill-rule:evenodd;stroke:#1BBC9B;stroke-width:1.0px;stroke-linecap:butt;stroke-linejoin:miter;stroke-opacity:1\"/>\n",
       "<ellipse class=\"atom-17\" cx=\"322.7\" cy=\"131.5\" rx=\"6.3\" ry=\"6.3\" style=\"fill:#1BBC9B;fill-rule:evenodd;stroke:#1BBC9B;stroke-width:1.0px;stroke-linecap:butt;stroke-linejoin:miter;stroke-opacity:1\"/>\n",
       "<ellipse class=\"atom-18\" cx=\"353.0\" cy=\"122.0\" rx=\"6.3\" ry=\"6.3\" style=\"fill:#1BBC9B;fill-rule:evenodd;stroke:#1BBC9B;stroke-width:1.0px;stroke-linecap:butt;stroke-linejoin:miter;stroke-opacity:1\"/>\n",
       "<ellipse class=\"atom-21\" cx=\"336.6\" cy=\"69.6\" rx=\"6.3\" ry=\"6.3\" style=\"fill:#1BBC9B;fill-rule:evenodd;stroke:#1BBC9B;stroke-width:1.0px;stroke-linecap:butt;stroke-linejoin:miter;stroke-opacity:1\"/>\n",
       "<path class=\"bond-0 atom-0 atom-1\" d=\"M 103.4,116.1 L 109.4,89.6\" style=\"fill:none;fill-rule:evenodd;stroke:#000000;stroke-width:2.0px;stroke-linecap:butt;stroke-linejoin:miter;stroke-opacity:1\"/>\n",
       "<path class=\"bond-0 atom-0 atom-1\" d=\"M 98.8,115.1 L 104.8,88.5\" style=\"fill:none;fill-rule:evenodd;stroke:#000000;stroke-width:2.0px;stroke-linecap:butt;stroke-linejoin:miter;stroke-opacity:1\"/>\n",
       "<path class=\"bond-1 atom-0 atom-2\" d=\"M 101.4,114.2 L 76.3,122.1\" style=\"fill:none;fill-rule:evenodd;stroke:#000000;stroke-width:2.0px;stroke-linecap:butt;stroke-linejoin:miter;stroke-opacity:1\"/>\n",
       "<path class=\"bond-2 atom-2 atom-3\" d=\"M 66.0,118.9 L 47.8,102.2\" style=\"fill:none;fill-rule:evenodd;stroke:#000000;stroke-width:2.0px;stroke-linecap:butt;stroke-linejoin:miter;stroke-opacity:1\"/>\n",
       "<path class=\"bond-3 atom-3 atom-4\" d=\"M 47.8,102.2 L 26.4,125.5\" style=\"fill:none;fill-rule:evenodd;stroke:#000000;stroke-width:2.0px;stroke-linecap:butt;stroke-linejoin:miter;stroke-opacity:1\"/>\n",
       "<path class=\"bond-4 atom-3 atom-5\" d=\"M 47.8,102.2 L 69.3,78.9\" style=\"fill:none;fill-rule:evenodd;stroke:#000000;stroke-width:2.0px;stroke-linecap:butt;stroke-linejoin:miter;stroke-opacity:1\"/>\n",
       "<path class=\"bond-5 atom-3 atom-6\" d=\"M 47.8,102.2 L 24.5,80.7\" style=\"fill:none;fill-rule:evenodd;stroke:#000000;stroke-width:2.0px;stroke-linecap:butt;stroke-linejoin:miter;stroke-opacity:1\"/>\n",
       "<path class=\"bond-6 atom-0 atom-7\" d=\"M 101.4,114.2 L 124.7,135.7\" style=\"fill:none;fill-rule:evenodd;stroke:#000000;stroke-width:2.0px;stroke-linecap:butt;stroke-linejoin:miter;stroke-opacity:1\"/>\n",
       "<path class=\"bond-7 atom-7 atom-8\" d=\"M 124.7,135.7 L 155.0,126.3\" style=\"fill:none;fill-rule:evenodd;stroke:#000000;stroke-width:2.0px;stroke-linecap:butt;stroke-linejoin:miter;stroke-opacity:1\"/>\n",
       "<path class=\"bond-8 atom-8 atom-9\" d=\"M 155.0,126.3 L 178.3,147.8\" style=\"fill:none;fill-rule:evenodd;stroke:#000000;stroke-width:2.0px;stroke-linecap:butt;stroke-linejoin:miter;stroke-opacity:1\"/>\n",
       "<path class=\"bond-9 atom-9 atom-10\" d=\"M 178.3,147.8 L 208.6,138.3\" style=\"fill:none;fill-rule:evenodd;stroke:#000000;stroke-width:2.0px;stroke-linecap:butt;stroke-linejoin:miter;stroke-opacity:1\"/>\n",
       "<path class=\"bond-10 atom-10 atom-11\" d=\"M 208.6,138.3 L 215.5,107.4\" style=\"fill:none;fill-rule:evenodd;stroke:#000000;stroke-width:2.0px;stroke-linecap:butt;stroke-linejoin:miter;stroke-opacity:1\"/>\n",
       "<path class=\"bond-10 atom-10 atom-11\" d=\"M 213.8,136.7 L 219.6,111.1\" style=\"fill:none;fill-rule:evenodd;stroke:#000000;stroke-width:2.0px;stroke-linecap:butt;stroke-linejoin:miter;stroke-opacity:1\"/>\n",
       "<path class=\"bond-11 atom-11 atom-12\" d=\"M 215.5,107.4 L 245.8,97.9\" style=\"fill:none;fill-rule:evenodd;stroke:#000000;stroke-width:2.0px;stroke-linecap:butt;stroke-linejoin:miter;stroke-opacity:1\"/>\n",
       "<path class=\"bond-12 atom-12 atom-13\" d=\"M 245.8,97.9 L 269.1,119.4\" style=\"fill:none;fill-rule:evenodd;stroke:#000000;stroke-width:2.0px;stroke-linecap:butt;stroke-linejoin:miter;stroke-opacity:1\"/>\n",
       "<path class=\"bond-12 atom-12 atom-13\" d=\"M 244.6,103.3 L 263.9,121.1\" style=\"fill:none;fill-rule:evenodd;stroke:#000000;stroke-width:2.0px;stroke-linecap:butt;stroke-linejoin:miter;stroke-opacity:1\"/>\n",
       "<path class=\"bond-13 atom-13 atom-14\" d=\"M 269.1,119.4 L 262.2,150.4\" style=\"fill:none;fill-rule:evenodd;stroke:#000000;stroke-width:2.0px;stroke-linecap:butt;stroke-linejoin:miter;stroke-opacity:1\"/>\n",
       "<path class=\"bond-14 atom-14 atom-15\" d=\"M 262.2,150.4 L 231.9,159.8\" style=\"fill:none;fill-rule:evenodd;stroke:#000000;stroke-width:2.0px;stroke-linecap:butt;stroke-linejoin:miter;stroke-opacity:1\"/>\n",
       "<path class=\"bond-14 atom-14 atom-15\" d=\"M 258.1,146.6 L 233.1,154.5\" style=\"fill:none;fill-rule:evenodd;stroke:#000000;stroke-width:2.0px;stroke-linecap:butt;stroke-linejoin:miter;stroke-opacity:1\"/>\n",
       "<path class=\"bond-15 atom-13 atom-16\" d=\"M 269.1,119.4 L 294.9,111.4\" style=\"fill:none;fill-rule:evenodd;stroke:#000000;stroke-width:2.0px;stroke-linecap:butt;stroke-linejoin:miter;stroke-opacity:1\"/>\n",
       "<path class=\"bond-16 atom-16 atom-17\" d=\"M 303.8,114.1 L 322.7,131.5\" style=\"fill:none;fill-rule:evenodd;stroke:#000000;stroke-width:2.0px;stroke-linecap:butt;stroke-linejoin:miter;stroke-opacity:1\"/>\n",
       "<path class=\"bond-17 atom-17 atom-18\" d=\"M 322.7,131.5 L 353.0,122.0\" style=\"fill:none;fill-rule:evenodd;stroke:#000000;stroke-width:2.0px;stroke-linecap:butt;stroke-linejoin:miter;stroke-opacity:1\"/>\n",
       "<path class=\"bond-18 atom-18 atom-19\" d=\"M 353.0,122.0 L 371.8,139.3\" style=\"fill:none;fill-rule:evenodd;stroke:#000000;stroke-width:2.0px;stroke-linecap:butt;stroke-linejoin:miter;stroke-opacity:1\"/>\n",
       "<path class=\"bond-19 atom-16 atom-20\" d=\"M 300.6,104.4 L 306.3,79.0\" style=\"fill:none;fill-rule:evenodd;stroke:#000000;stroke-width:2.0px;stroke-linecap:butt;stroke-linejoin:miter;stroke-opacity:1\"/>\n",
       "<path class=\"bond-20 atom-20 atom-21\" d=\"M 306.3,79.0 L 336.6,69.6\" style=\"fill:none;fill-rule:evenodd;stroke:#000000;stroke-width:2.0px;stroke-linecap:butt;stroke-linejoin:miter;stroke-opacity:1\"/>\n",
       "<path class=\"bond-21 atom-21 atom-22\" d=\"M 336.6,69.6 L 342.2,44.6\" style=\"fill:none;fill-rule:evenodd;stroke:#000000;stroke-width:2.0px;stroke-linecap:butt;stroke-linejoin:miter;stroke-opacity:1\"/>\n",
       "<path class=\"bond-22 atom-15 atom-10\" d=\"M 231.9,159.8 L 208.6,138.3\" style=\"fill:none;fill-rule:evenodd;stroke:#000000;stroke-width:2.0px;stroke-linecap:butt;stroke-linejoin:miter;stroke-opacity:1\"/>\n",
       "<path d=\"M 100.2,114.6 L 101.4,114.2 L 102.6,115.3\" style=\"fill:none;stroke:#000000;stroke-width:2.0px;stroke-linecap:butt;stroke-linejoin:miter;stroke-opacity:1;\"/>\n",
       "<path d=\"M 123.6,134.7 L 124.7,135.7 L 126.2,135.3\" style=\"fill:none;stroke:#000000;stroke-width:2.0px;stroke-linecap:butt;stroke-linejoin:miter;stroke-opacity:1;\"/>\n",
       "<path d=\"M 153.5,126.8 L 155.0,126.3 L 156.2,127.4\" style=\"fill:none;stroke:#000000;stroke-width:2.0px;stroke-linecap:butt;stroke-linejoin:miter;stroke-opacity:1;\"/>\n",
       "<path d=\"M 177.2,146.7 L 178.3,147.8 L 179.8,147.3\" style=\"fill:none;stroke:#000000;stroke-width:2.0px;stroke-linecap:butt;stroke-linejoin:miter;stroke-opacity:1;\"/>\n",
       "<path d=\"M 215.2,108.9 L 215.5,107.4 L 217.0,106.9\" style=\"fill:none;stroke:#000000;stroke-width:2.0px;stroke-linecap:butt;stroke-linejoin:miter;stroke-opacity:1;\"/>\n",
       "<path d=\"M 244.3,98.4 L 245.8,97.9 L 247.0,99.0\" style=\"fill:none;stroke:#000000;stroke-width:2.0px;stroke-linecap:butt;stroke-linejoin:miter;stroke-opacity:1;\"/>\n",
       "<path d=\"M 262.5,148.8 L 262.2,150.4 L 260.7,150.8\" style=\"fill:none;stroke:#000000;stroke-width:2.0px;stroke-linecap:butt;stroke-linejoin:miter;stroke-opacity:1;\"/>\n",
       "<path d=\"M 233.4,159.3 L 231.9,159.8 L 230.7,158.7\" style=\"fill:none;stroke:#000000;stroke-width:2.0px;stroke-linecap:butt;stroke-linejoin:miter;stroke-opacity:1;\"/>\n",
       "<path d=\"M 321.8,130.6 L 322.7,131.5 L 324.2,131.0\" style=\"fill:none;stroke:#000000;stroke-width:2.0px;stroke-linecap:butt;stroke-linejoin:miter;stroke-opacity:1;\"/>\n",
       "<path d=\"M 351.4,122.5 L 353.0,122.0 L 353.9,122.9\" style=\"fill:none;stroke:#000000;stroke-width:2.0px;stroke-linecap:butt;stroke-linejoin:miter;stroke-opacity:1;\"/>\n",
       "<path d=\"M 306.0,80.3 L 306.3,79.0 L 307.8,78.6\" style=\"fill:none;stroke:#000000;stroke-width:2.0px;stroke-linecap:butt;stroke-linejoin:miter;stroke-opacity:1;\"/>\n",
       "<path d=\"M 335.1,70.1 L 336.6,69.6 L 336.9,68.3\" style=\"fill:none;stroke:#000000;stroke-width:2.0px;stroke-linecap:butt;stroke-linejoin:miter;stroke-opacity:1;\"/>\n",
       "<path class=\"atom-1\" d=\"M 104.2 83.3 Q 104.2 81.2, 105.3 80.0 Q 106.4 78.8, 108.4 78.8 Q 110.4 78.8, 111.4 80.0 Q 112.5 81.2, 112.5 83.3 Q 112.5 85.5, 111.4 86.8 Q 110.3 88.0, 108.4 88.0 Q 106.4 88.0, 105.3 86.8 Q 104.2 85.5, 104.2 83.3 M 108.4 87.0 Q 109.7 87.0, 110.5 86.1 Q 111.2 85.1, 111.2 83.3 Q 111.2 81.6, 110.5 80.7 Q 109.7 79.8, 108.4 79.8 Q 107.0 79.8, 106.3 80.7 Q 105.5 81.6, 105.5 83.3 Q 105.5 85.2, 106.3 86.1 Q 107.0 87.0, 108.4 87.0 \" fill=\"#000000\"/>\n",
       "<path class=\"atom-2\" d=\"M 67.0 123.7 Q 67.0 121.6, 68.1 120.4 Q 69.2 119.2, 71.2 119.2 Q 73.1 119.2, 74.2 120.4 Q 75.3 121.6, 75.3 123.7 Q 75.3 125.9, 74.2 127.1 Q 73.1 128.4, 71.2 128.4 Q 69.2 128.4, 68.1 127.1 Q 67.0 125.9, 67.0 123.7 M 71.2 127.4 Q 72.5 127.4, 73.3 126.4 Q 74.0 125.5, 74.0 123.7 Q 74.0 122.0, 73.3 121.1 Q 72.5 120.2, 71.2 120.2 Q 69.8 120.2, 69.0 121.1 Q 68.3 121.9, 68.3 123.7 Q 68.3 125.5, 69.0 126.4 Q 69.8 127.4, 71.2 127.4 \" fill=\"#000000\"/>\n",
       "<path class=\"atom-16\" d=\"M 297.4 105.5 L 300.3 110.2 Q 300.6 110.7, 301.1 111.6 Q 301.6 112.4, 301.6 112.5 L 301.6 105.5 L 302.8 105.5 L 302.8 114.5 L 301.6 114.5 L 298.4 109.3 Q 298.0 108.7, 297.6 108.0 Q 297.3 107.3, 297.1 107.0 L 297.1 114.5 L 296.0 114.5 L 296.0 105.5 L 297.4 105.5 \" fill=\"#000000\"/>\n",
       "<path class=\"atom-19\" d=\"M 372.8 143.8 Q 372.8 141.6, 373.9 140.4 Q 374.9 139.2, 376.9 139.2 Q 378.8 139.2, 379.7 140.5 L 378.9 141.2 Q 378.2 140.3, 376.9 140.3 Q 375.5 140.3, 374.8 141.2 Q 374.1 142.1, 374.1 143.8 Q 374.1 145.6, 374.8 146.5 Q 375.6 147.4, 377.0 147.4 Q 378.0 147.4, 379.2 146.8 L 379.5 147.8 Q 379.1 148.1, 378.4 148.3 Q 377.6 148.4, 376.9 148.4 Q 374.9 148.4, 373.9 147.2 Q 372.8 146.0, 372.8 143.8 \" fill=\"#000000\"/>\n",
       "<path class=\"atom-19\" d=\"M 380.7 138.7 L 381.8 138.7 L 381.8 148.3 L 380.7 148.3 L 380.7 138.7 \" fill=\"#000000\"/>\n",
       "<path class=\"atom-22\" d=\"M 340.1 39.0 Q 340.1 36.7, 341.1 35.6 Q 342.2 34.4, 344.2 34.4 Q 346.0 34.4, 347.0 35.7 L 346.2 36.4 Q 345.4 35.4, 344.2 35.4 Q 342.8 35.4, 342.1 36.3 Q 341.4 37.2, 341.4 39.0 Q 341.4 40.7, 342.1 41.7 Q 342.9 42.6, 344.3 42.6 Q 345.3 42.6, 346.5 42.0 L 346.8 42.9 Q 346.3 43.2, 345.6 43.4 Q 344.9 43.6, 344.1 43.6 Q 342.2 43.6, 341.1 42.4 Q 340.1 41.2, 340.1 39.0 \" fill=\"#000000\"/>\n",
       "<path class=\"atom-22\" d=\"M 347.9 33.8 L 349.1 33.8 L 349.1 43.5 L 347.9 43.5 L 347.9 33.8 \" fill=\"#000000\"/>\n",
       "</svg>"
      ],
      "text/plain": [
       "<IPython.core.display.SVG object>"
      ]
     },
     "execution_count": 8,
     "metadata": {},
     "output_type": "execute_result"
    }
   ],
   "source": [
    "from IPython.display import SVG\n",
    "SVG(svgs[0])"
   ]
  },
  {
   "cell_type": "code",
   "execution_count": null,
   "metadata": {},
   "outputs": [],
   "source": []
  }
 ],
 "metadata": {
  "kernelspec": {
   "display_name": "MolRep",
   "language": "python",
   "name": "python3"
  },
  "language_info": {
   "codemirror_mode": {
    "name": "ipython",
    "version": 3
   },
   "file_extension": ".py",
   "mimetype": "text/x-python",
   "name": "python",
   "nbconvert_exporter": "python",
   "pygments_lexer": "ipython3",
   "version": "3.7.9"
  },
  "orig_nbformat": 4
 },
 "nbformat": 4,
 "nbformat_minor": 2
}
