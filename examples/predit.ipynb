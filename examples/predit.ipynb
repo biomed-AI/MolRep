{
 "cells": [
  {
   "cell_type": "code",
   "execution_count": 2,
   "metadata": {},
   "outputs": [],
   "source": [
    "from molrep import load_model_and_preprocess"
   ]
  },
  {
   "cell_type": "code",
   "execution_count": 3,
   "metadata": {},
   "outputs": [
    {
     "name": "stdout",
     "output_type": "stream",
     "text": [
      "Missing keys []\n",
      "load checkpoint from /data/user/raojh/worksapce/MolRep-v2/model_checkpoints/gin_ogbg-molbbbp_best.pth\n"
     ]
    }
   ],
   "source": [
    "model, preprocess = load_model_and_preprocess('gin', 'ogbg-molbbbp', device='cuda')"
   ]
  },
  {
   "cell_type": "code",
   "execution_count": null,
   "metadata": {},
   "outputs": [],
   "source": []
  },
  {
   "cell_type": "code",
   "execution_count": 14,
   "metadata": {},
   "outputs": [],
   "source": [
    "mols, data = preprocess.process([\n",
    "    'C(=O)(OC(C)(C)C)CCCc1ccc(cc1)N(CCCl)CCCl',\n",
    "    'C1CCN(CC1)Cc1cccc(c1)OCCCNC(=O)C',\n",
    "    'FC1=CNC(=O)NC1=O',\n",
    "    'OCC(C)(O)c1onc(c2ncn3c2CN(C)C(c4c3cccc4Cl)=O)n1',\n",
    "    'CN1CCN(CCCN2c3ccccc3Sc4ccc(cc24)C(F)(F)F)CC1',\n",
    "])"
   ]
  },
  {
   "cell_type": "code",
   "execution_count": 15,
   "metadata": {},
   "outputs": [
    {
     "data": {
      "text/plain": [
       "array([[0.93820006],\n",
       "       [0.91267055],\n",
       "       [0.91744703],\n",
       "       [0.9218885 ],\n",
       "       [0.9276662 ]], dtype=float32)"
      ]
     },
     "execution_count": 15,
     "metadata": {},
     "output_type": "execute_result"
    }
   ],
   "source": [
    "model.predict(data, task='classification')"
   ]
  },
  {
   "cell_type": "code",
   "execution_count": null,
   "metadata": {},
   "outputs": [],
   "source": []
  }
 ],
 "metadata": {
  "kernelspec": {
   "display_name": "MolRep",
   "language": "python",
   "name": "python3"
  },
  "language_info": {
   "codemirror_mode": {
    "name": "ipython",
    "version": 3
   },
   "file_extension": ".py",
   "mimetype": "text/x-python",
   "name": "python",
   "nbconvert_exporter": "python",
   "pygments_lexer": "ipython3",
   "version": "3.7.9"
  },
  "orig_nbformat": 4
 },
 "nbformat": 4,
 "nbformat_minor": 2
}
